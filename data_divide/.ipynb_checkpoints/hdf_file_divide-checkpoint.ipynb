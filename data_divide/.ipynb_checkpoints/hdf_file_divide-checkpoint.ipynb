{
 "cells": [
  {
   "cell_type": "code",
   "execution_count": 1,
   "metadata": {},
   "outputs": [],
   "source": [
    "import h5py    \n",
    "import numpy as np\n",
    "from PIL import Image"
   ]
  },
  {
   "cell_type": "code",
   "execution_count": 2,
   "metadata": {},
   "outputs": [],
   "source": [
    "import skimage\n",
    "import os\n",
    "os.environ[\"HDF5_USE_FILE_LOCKING\"] = \"FALSE\"  # not lock files for others to read"
   ]
  },
  {
   "cell_type": "code",
   "execution_count": 3,
   "metadata": {},
   "outputs": [],
   "source": [
    "file_name = \"/home/ccw/storage/Yinan_data/TM0-49/H2BGFP_TM0-49.h5\"\n",
    "f1 = h5py.File(file_name,'r+')"
   ]
  },
  {
   "cell_type": "code",
   "execution_count": 8,
   "metadata": {
    "collapsed": true
   },
   "outputs": [
    {
     "data": {
      "text/plain": [
       "['__DATA_TYPES__',\n",
       " 's00',\n",
       " 's01',\n",
       " 's02',\n",
       " 's03',\n",
       " 's04',\n",
       " 's05',\n",
       " 's06',\n",
       " 's07',\n",
       " 't00000',\n",
       " 't00001',\n",
       " 't00002',\n",
       " 't00003',\n",
       " 't00004',\n",
       " 't00005',\n",
       " 't00006',\n",
       " 't00007',\n",
       " 't00008',\n",
       " 't00009',\n",
       " 't00010',\n",
       " 't00011',\n",
       " 't00012',\n",
       " 't00013',\n",
       " 't00014',\n",
       " 't00015',\n",
       " 't00016',\n",
       " 't00017',\n",
       " 't00018',\n",
       " 't00019',\n",
       " 't00020',\n",
       " 't00021',\n",
       " 't00022',\n",
       " 't00023',\n",
       " 't00024',\n",
       " 't00025',\n",
       " 't00026',\n",
       " 't00027',\n",
       " 't00028',\n",
       " 't00029',\n",
       " 't00030',\n",
       " 't00031',\n",
       " 't00032',\n",
       " 't00033',\n",
       " 't00034',\n",
       " 't00035',\n",
       " 't00036',\n",
       " 't00037',\n",
       " 't00038',\n",
       " 't00039',\n",
       " 't00040',\n",
       " 't00041',\n",
       " 't00042',\n",
       " 't00043',\n",
       " 't00044',\n",
       " 't00045',\n",
       " 't00046',\n",
       " 't00047',\n",
       " 't00048',\n",
       " 't00049']"
      ]
     },
     "execution_count": 8,
     "metadata": {},
     "output_type": "execute_result"
    }
   ],
   "source": [
    "list(f1.keys())"
   ]
  },
  {
   "cell_type": "code",
   "execution_count": 9,
   "metadata": {},
   "outputs": [],
   "source": [
    "left = f1['t00049']['s00']['0']['cells'][()]\n",
    "right = f1['t00049']['s00']['0']['cells'][()]"
   ]
  },
  {
   "cell_type": "code",
   "execution_count": 10,
   "metadata": {},
   "outputs": [],
   "source": [
    "both = (right + left) / 2"
   ]
  },
  {
   "cell_type": "code",
   "execution_count": 5,
   "metadata": {},
   "outputs": [],
   "source": [
    "def ExtractSmallData(in_data):\n",
    "    out = in_data[125:175, 400:900, 400:900]\n",
    "    #out = (out * (255.0 / 65535)).astype(np.uint8)\n",
    "    return out\n",
    "import skimage.io\n",
    "def SaveNumpyArrayAsImage(data, file_name):\n",
    "    skimage.io.imsave(file_name, data, photometric=\"minisblack\")"
   ]
  },
  {
   "cell_type": "code",
   "execution_count": 43,
   "metadata": {},
   "outputs": [],
   "source": [
    "out = ExtractSmallData(both)"
   ]
  },
  {
   "cell_type": "code",
   "execution_count": 37,
   "metadata": {},
   "outputs": [
    {
     "data": {
      "text/plain": [
       "(185, 1920, 1920)"
      ]
     },
     "execution_count": 37,
     "metadata": {},
     "output_type": "execute_result"
    }
   ],
   "source": [
    "both.shape"
   ]
  },
  {
   "cell_type": "code",
   "execution_count": 13,
   "metadata": {},
   "outputs": [],
   "source": [
    "out = out.swapaxes(0, 2)\n",
    "out = out.swapaxes(0, 1)"
   ]
  },
  {
   "cell_type": "code",
   "execution_count": 44,
   "metadata": {},
   "outputs": [
    {
     "data": {
      "text/plain": [
       "828.0"
      ]
     },
     "execution_count": 44,
     "metadata": {},
     "output_type": "execute_result"
    }
   ],
   "source": [
    "np.amax(out)"
   ]
  },
  {
   "cell_type": "code",
   "execution_count": 51,
   "metadata": {},
   "outputs": [],
   "source": [
    "max_p = np.amax(out, axis=0)"
   ]
  },
  {
   "cell_type": "code",
   "execution_count": 52,
   "metadata": {},
   "outputs": [
    {
     "data": {
      "text/plain": [
       "(500, 500)"
      ]
     },
     "execution_count": 52,
     "metadata": {},
     "output_type": "execute_result"
    }
   ],
   "source": [
    "max_p.shape"
   ]
  },
  {
   "cell_type": "code",
   "execution_count": 49,
   "metadata": {
    "collapsed": true
   },
   "outputs": [
    {
     "name": "stderr",
     "output_type": "stream",
     "text": [
      "<ipython-input-47-50dcf3bfe4fe>:7: UserWarning: /home/ccw/storage/Yinan_data/TM0-49/crop/crop_00_04_t00000.tif is a low contrast image\n",
      "  skimage.io.imsave(file_name, data, photometric=\"minisblack\")\n",
      "<ipython-input-47-50dcf3bfe4fe>:7: UserWarning: /home/ccw/storage/Yinan_data/TM0-49/crop/crop_00_04_t00001.tif is a low contrast image\n",
      "  skimage.io.imsave(file_name, data, photometric=\"minisblack\")\n",
      "<ipython-input-47-50dcf3bfe4fe>:7: UserWarning: /home/ccw/storage/Yinan_data/TM0-49/crop/crop_00_04_t00002.tif is a low contrast image\n",
      "  skimage.io.imsave(file_name, data, photometric=\"minisblack\")\n",
      "<ipython-input-47-50dcf3bfe4fe>:7: UserWarning: /home/ccw/storage/Yinan_data/TM0-49/crop/crop_00_04_t00003.tif is a low contrast image\n",
      "  skimage.io.imsave(file_name, data, photometric=\"minisblack\")\n",
      "<ipython-input-47-50dcf3bfe4fe>:7: UserWarning: /home/ccw/storage/Yinan_data/TM0-49/crop/crop_00_04_t00004.tif is a low contrast image\n",
      "  skimage.io.imsave(file_name, data, photometric=\"minisblack\")\n",
      "<ipython-input-47-50dcf3bfe4fe>:7: UserWarning: /home/ccw/storage/Yinan_data/TM0-49/crop/crop_00_04_t00005.tif is a low contrast image\n",
      "  skimage.io.imsave(file_name, data, photometric=\"minisblack\")\n",
      "<ipython-input-47-50dcf3bfe4fe>:7: UserWarning: /home/ccw/storage/Yinan_data/TM0-49/crop/crop_00_04_t00006.tif is a low contrast image\n",
      "  skimage.io.imsave(file_name, data, photometric=\"minisblack\")\n",
      "<ipython-input-47-50dcf3bfe4fe>:7: UserWarning: /home/ccw/storage/Yinan_data/TM0-49/crop/crop_00_04_t00007.tif is a low contrast image\n",
      "  skimage.io.imsave(file_name, data, photometric=\"minisblack\")\n",
      "<ipython-input-47-50dcf3bfe4fe>:7: UserWarning: /home/ccw/storage/Yinan_data/TM0-49/crop/crop_00_04_t00008.tif is a low contrast image\n",
      "  skimage.io.imsave(file_name, data, photometric=\"minisblack\")\n",
      "<ipython-input-47-50dcf3bfe4fe>:7: UserWarning: /home/ccw/storage/Yinan_data/TM0-49/crop/crop_00_04_t00009.tif is a low contrast image\n",
      "  skimage.io.imsave(file_name, data, photometric=\"minisblack\")\n",
      "<ipython-input-47-50dcf3bfe4fe>:7: UserWarning: /home/ccw/storage/Yinan_data/TM0-49/crop/crop_00_04_t00010.tif is a low contrast image\n",
      "  skimage.io.imsave(file_name, data, photometric=\"minisblack\")\n",
      "<ipython-input-47-50dcf3bfe4fe>:7: UserWarning: /home/ccw/storage/Yinan_data/TM0-49/crop/crop_00_04_t00011.tif is a low contrast image\n",
      "  skimage.io.imsave(file_name, data, photometric=\"minisblack\")\n",
      "<ipython-input-47-50dcf3bfe4fe>:7: UserWarning: /home/ccw/storage/Yinan_data/TM0-49/crop/crop_00_04_t00012.tif is a low contrast image\n",
      "  skimage.io.imsave(file_name, data, photometric=\"minisblack\")\n",
      "<ipython-input-47-50dcf3bfe4fe>:7: UserWarning: /home/ccw/storage/Yinan_data/TM0-49/crop/crop_00_04_t00013.tif is a low contrast image\n",
      "  skimage.io.imsave(file_name, data, photometric=\"minisblack\")\n",
      "<ipython-input-47-50dcf3bfe4fe>:7: UserWarning: /home/ccw/storage/Yinan_data/TM0-49/crop/crop_00_04_t00014.tif is a low contrast image\n",
      "  skimage.io.imsave(file_name, data, photometric=\"minisblack\")\n",
      "<ipython-input-47-50dcf3bfe4fe>:7: UserWarning: /home/ccw/storage/Yinan_data/TM0-49/crop/crop_00_04_t00015.tif is a low contrast image\n",
      "  skimage.io.imsave(file_name, data, photometric=\"minisblack\")\n",
      "<ipython-input-47-50dcf3bfe4fe>:7: UserWarning: /home/ccw/storage/Yinan_data/TM0-49/crop/crop_00_04_t00016.tif is a low contrast image\n",
      "  skimage.io.imsave(file_name, data, photometric=\"minisblack\")\n",
      "<ipython-input-47-50dcf3bfe4fe>:7: UserWarning: /home/ccw/storage/Yinan_data/TM0-49/crop/crop_00_04_t00017.tif is a low contrast image\n",
      "  skimage.io.imsave(file_name, data, photometric=\"minisblack\")\n",
      "<ipython-input-47-50dcf3bfe4fe>:7: UserWarning: /home/ccw/storage/Yinan_data/TM0-49/crop/crop_00_04_t00018.tif is a low contrast image\n",
      "  skimage.io.imsave(file_name, data, photometric=\"minisblack\")\n",
      "<ipython-input-47-50dcf3bfe4fe>:7: UserWarning: /home/ccw/storage/Yinan_data/TM0-49/crop/crop_00_04_t00019.tif is a low contrast image\n",
      "  skimage.io.imsave(file_name, data, photometric=\"minisblack\")\n",
      "<ipython-input-47-50dcf3bfe4fe>:7: UserWarning: /home/ccw/storage/Yinan_data/TM0-49/crop/crop_00_04_t00020.tif is a low contrast image\n",
      "  skimage.io.imsave(file_name, data, photometric=\"minisblack\")\n",
      "<ipython-input-47-50dcf3bfe4fe>:7: UserWarning: /home/ccw/storage/Yinan_data/TM0-49/crop/crop_00_04_t00021.tif is a low contrast image\n",
      "  skimage.io.imsave(file_name, data, photometric=\"minisblack\")\n",
      "<ipython-input-47-50dcf3bfe4fe>:7: UserWarning: /home/ccw/storage/Yinan_data/TM0-49/crop/crop_00_04_t00022.tif is a low contrast image\n",
      "  skimage.io.imsave(file_name, data, photometric=\"minisblack\")\n",
      "<ipython-input-47-50dcf3bfe4fe>:7: UserWarning: /home/ccw/storage/Yinan_data/TM0-49/crop/crop_00_04_t00023.tif is a low contrast image\n",
      "  skimage.io.imsave(file_name, data, photometric=\"minisblack\")\n",
      "<ipython-input-47-50dcf3bfe4fe>:7: UserWarning: /home/ccw/storage/Yinan_data/TM0-49/crop/crop_00_04_t00024.tif is a low contrast image\n",
      "  skimage.io.imsave(file_name, data, photometric=\"minisblack\")\n",
      "<ipython-input-47-50dcf3bfe4fe>:7: UserWarning: /home/ccw/storage/Yinan_data/TM0-49/crop/crop_00_04_t00025.tif is a low contrast image\n",
      "  skimage.io.imsave(file_name, data, photometric=\"minisblack\")\n",
      "<ipython-input-47-50dcf3bfe4fe>:7: UserWarning: /home/ccw/storage/Yinan_data/TM0-49/crop/crop_00_04_t00026.tif is a low contrast image\n",
      "  skimage.io.imsave(file_name, data, photometric=\"minisblack\")\n",
      "<ipython-input-47-50dcf3bfe4fe>:7: UserWarning: /home/ccw/storage/Yinan_data/TM0-49/crop/crop_00_04_t00027.tif is a low contrast image\n",
      "  skimage.io.imsave(file_name, data, photometric=\"minisblack\")\n",
      "<ipython-input-47-50dcf3bfe4fe>:7: UserWarning: /home/ccw/storage/Yinan_data/TM0-49/crop/crop_00_04_t00028.tif is a low contrast image\n",
      "  skimage.io.imsave(file_name, data, photometric=\"minisblack\")\n",
      "<ipython-input-47-50dcf3bfe4fe>:7: UserWarning: /home/ccw/storage/Yinan_data/TM0-49/crop/crop_00_04_t00029.tif is a low contrast image\n",
      "  skimage.io.imsave(file_name, data, photometric=\"minisblack\")\n",
      "<ipython-input-47-50dcf3bfe4fe>:7: UserWarning: /home/ccw/storage/Yinan_data/TM0-49/crop/crop_00_04_t00030.tif is a low contrast image\n",
      "  skimage.io.imsave(file_name, data, photometric=\"minisblack\")\n",
      "<ipython-input-47-50dcf3bfe4fe>:7: UserWarning: /home/ccw/storage/Yinan_data/TM0-49/crop/crop_00_04_t00031.tif is a low contrast image\n",
      "  skimage.io.imsave(file_name, data, photometric=\"minisblack\")\n",
      "<ipython-input-47-50dcf3bfe4fe>:7: UserWarning: /home/ccw/storage/Yinan_data/TM0-49/crop/crop_00_04_t00032.tif is a low contrast image\n",
      "  skimage.io.imsave(file_name, data, photometric=\"minisblack\")\n",
      "<ipython-input-47-50dcf3bfe4fe>:7: UserWarning: /home/ccw/storage/Yinan_data/TM0-49/crop/crop_00_04_t00033.tif is a low contrast image\n",
      "  skimage.io.imsave(file_name, data, photometric=\"minisblack\")\n",
      "<ipython-input-47-50dcf3bfe4fe>:7: UserWarning: /home/ccw/storage/Yinan_data/TM0-49/crop/crop_00_04_t00034.tif is a low contrast image\n",
      "  skimage.io.imsave(file_name, data, photometric=\"minisblack\")\n",
      "<ipython-input-47-50dcf3bfe4fe>:7: UserWarning: /home/ccw/storage/Yinan_data/TM0-49/crop/crop_00_04_t00035.tif is a low contrast image\n",
      "  skimage.io.imsave(file_name, data, photometric=\"minisblack\")\n",
      "<ipython-input-47-50dcf3bfe4fe>:7: UserWarning: /home/ccw/storage/Yinan_data/TM0-49/crop/crop_00_04_t00036.tif is a low contrast image\n",
      "  skimage.io.imsave(file_name, data, photometric=\"minisblack\")\n",
      "<ipython-input-47-50dcf3bfe4fe>:7: UserWarning: /home/ccw/storage/Yinan_data/TM0-49/crop/crop_00_04_t00037.tif is a low contrast image\n",
      "  skimage.io.imsave(file_name, data, photometric=\"minisblack\")\n",
      "<ipython-input-47-50dcf3bfe4fe>:7: UserWarning: /home/ccw/storage/Yinan_data/TM0-49/crop/crop_00_04_t00038.tif is a low contrast image\n",
      "  skimage.io.imsave(file_name, data, photometric=\"minisblack\")\n",
      "<ipython-input-47-50dcf3bfe4fe>:7: UserWarning: /home/ccw/storage/Yinan_data/TM0-49/crop/crop_00_04_t00039.tif is a low contrast image\n",
      "  skimage.io.imsave(file_name, data, photometric=\"minisblack\")\n",
      "<ipython-input-47-50dcf3bfe4fe>:7: UserWarning: /home/ccw/storage/Yinan_data/TM0-49/crop/crop_00_04_t00040.tif is a low contrast image\n",
      "  skimage.io.imsave(file_name, data, photometric=\"minisblack\")\n",
      "<ipython-input-47-50dcf3bfe4fe>:7: UserWarning: /home/ccw/storage/Yinan_data/TM0-49/crop/crop_00_04_t00041.tif is a low contrast image\n",
      "  skimage.io.imsave(file_name, data, photometric=\"minisblack\")\n"
     ]
    },
    {
     "name": "stderr",
     "output_type": "stream",
     "text": [
      "<ipython-input-47-50dcf3bfe4fe>:7: UserWarning: /home/ccw/storage/Yinan_data/TM0-49/crop/crop_00_04_t00042.tif is a low contrast image\n",
      "  skimage.io.imsave(file_name, data, photometric=\"minisblack\")\n",
      "<ipython-input-47-50dcf3bfe4fe>:7: UserWarning: /home/ccw/storage/Yinan_data/TM0-49/crop/crop_00_04_t00043.tif is a low contrast image\n",
      "  skimage.io.imsave(file_name, data, photometric=\"minisblack\")\n",
      "<ipython-input-47-50dcf3bfe4fe>:7: UserWarning: /home/ccw/storage/Yinan_data/TM0-49/crop/crop_00_04_t00044.tif is a low contrast image\n",
      "  skimage.io.imsave(file_name, data, photometric=\"minisblack\")\n",
      "<ipython-input-47-50dcf3bfe4fe>:7: UserWarning: /home/ccw/storage/Yinan_data/TM0-49/crop/crop_00_04_t00045.tif is a low contrast image\n",
      "  skimage.io.imsave(file_name, data, photometric=\"minisblack\")\n",
      "<ipython-input-47-50dcf3bfe4fe>:7: UserWarning: /home/ccw/storage/Yinan_data/TM0-49/crop/crop_00_04_t00046.tif is a low contrast image\n",
      "  skimage.io.imsave(file_name, data, photometric=\"minisblack\")\n",
      "<ipython-input-47-50dcf3bfe4fe>:7: UserWarning: /home/ccw/storage/Yinan_data/TM0-49/crop/crop_00_04_t00047.tif is a low contrast image\n",
      "  skimage.io.imsave(file_name, data, photometric=\"minisblack\")\n",
      "<ipython-input-47-50dcf3bfe4fe>:7: UserWarning: /home/ccw/storage/Yinan_data/TM0-49/crop/crop_00_04_t00048.tif is a low contrast image\n",
      "  skimage.io.imsave(file_name, data, photometric=\"minisblack\")\n",
      "<ipython-input-47-50dcf3bfe4fe>:7: UserWarning: /home/ccw/storage/Yinan_data/TM0-49/crop/crop_00_04_t00049.tif is a low contrast image\n",
      "  skimage.io.imsave(file_name, data, photometric=\"minisblack\")\n"
     ]
    }
   ],
   "source": [
    "# save cropped small data\n",
    "file_path = '/home/ccw/storage/Yinan_data/TM0-49/crop/'\n",
    "for key in f1.keys():\n",
    "    if key[0] == 't':\n",
    "        left = f1[key]['s00']['0']['cells'][()]\n",
    "        right = f1[key]['s04']['0']['cells'][()]\n",
    "        merge = left + right\n",
    "        small = ExtractSmallData(merge)\n",
    "        file_name = file_path + 'crop_00_04_' + key + '.tif'\n",
    "        SaveNumpyArrayAsImage(small, file_name)"
   ]
  },
  {
   "cell_type": "code",
   "execution_count": 4,
   "metadata": {},
   "outputs": [
    {
     "ename": "NameError",
     "evalue": "name 'SaveNumpyArrayAsImage' is not defined",
     "output_type": "error",
     "traceback": [
      "\u001b[0;31m---------------------------------------------------------------------------\u001b[0m",
      "\u001b[0;31mNameError\u001b[0m                                 Traceback (most recent call last)",
      "\u001b[0;32m<ipython-input-4-69be5e578316>\u001b[0m in \u001b[0;36m<module>\u001b[0;34m\u001b[0m\n\u001b[1;32m      7\u001b[0m         \u001b[0mmerge\u001b[0m \u001b[0;34m=\u001b[0m \u001b[0mleft\u001b[0m \u001b[0;34m+\u001b[0m \u001b[0mright\u001b[0m\u001b[0;34m\u001b[0m\u001b[0;34m\u001b[0m\u001b[0m\n\u001b[1;32m      8\u001b[0m         \u001b[0mfile_name\u001b[0m \u001b[0;34m=\u001b[0m \u001b[0mfile_path\u001b[0m \u001b[0;34m+\u001b[0m \u001b[0;34m'full_data_00_04_'\u001b[0m \u001b[0;34m+\u001b[0m \u001b[0mkey\u001b[0m \u001b[0;34m+\u001b[0m \u001b[0;34m'.tif'\u001b[0m\u001b[0;34m\u001b[0m\u001b[0;34m\u001b[0m\u001b[0m\n\u001b[0;32m----> 9\u001b[0;31m         \u001b[0mSaveNumpyArrayAsImage\u001b[0m\u001b[0;34m(\u001b[0m\u001b[0mmerge\u001b[0m\u001b[0;34m,\u001b[0m \u001b[0mfile_name\u001b[0m\u001b[0;34m)\u001b[0m\u001b[0;34m\u001b[0m\u001b[0;34m\u001b[0m\u001b[0m\n\u001b[0m",
      "\u001b[0;31mNameError\u001b[0m: name 'SaveNumpyArrayAsImage' is not defined"
     ]
    }
   ],
   "source": [
    "# save the full data in separate tiff files\n",
    "file_path = '/home/ccw/storage/Yinan_data/TM0-49/full_data/'\n",
    "for key in f1.keys():\n",
    "    if key[0] == 't':\n",
    "        left = f1[key]['s00']['0']['cells'][()]\n",
    "        right = f1[key]['s04']['0']['cells'][()]\n",
    "        merge = left + right\n",
    "        file_name = file_path + 'full_data_00_04_' + key + '.tif'\n",
    "        SaveNumpyArrayAsImage(merge, file_name)\n",
    "        print(\"Save data:{}\".format(file_name))"
   ]
  },
  {
   "cell_type": "code",
   "execution_count": 54,
   "metadata": {
    "collapsed": true
   },
   "outputs": [
    {
     "name": "stderr",
     "output_type": "stream",
     "text": [
      "<ipython-input-47-50dcf3bfe4fe>:7: UserWarning: /home/ccw/storage/Yinan_data/TM0-49/max_proj/max_proj_00_04_t00000.tif is a low contrast image\n",
      "  skimage.io.imsave(file_name, data, photometric=\"minisblack\")\n",
      "<ipython-input-47-50dcf3bfe4fe>:7: UserWarning: /home/ccw/storage/Yinan_data/TM0-49/max_proj/max_proj_00_04_t00001.tif is a low contrast image\n",
      "  skimage.io.imsave(file_name, data, photometric=\"minisblack\")\n",
      "<ipython-input-47-50dcf3bfe4fe>:7: UserWarning: /home/ccw/storage/Yinan_data/TM0-49/max_proj/max_proj_00_04_t00002.tif is a low contrast image\n",
      "  skimage.io.imsave(file_name, data, photometric=\"minisblack\")\n",
      "<ipython-input-47-50dcf3bfe4fe>:7: UserWarning: /home/ccw/storage/Yinan_data/TM0-49/max_proj/max_proj_00_04_t00003.tif is a low contrast image\n",
      "  skimage.io.imsave(file_name, data, photometric=\"minisblack\")\n",
      "<ipython-input-47-50dcf3bfe4fe>:7: UserWarning: /home/ccw/storage/Yinan_data/TM0-49/max_proj/max_proj_00_04_t00004.tif is a low contrast image\n",
      "  skimage.io.imsave(file_name, data, photometric=\"minisblack\")\n",
      "<ipython-input-47-50dcf3bfe4fe>:7: UserWarning: /home/ccw/storage/Yinan_data/TM0-49/max_proj/max_proj_00_04_t00005.tif is a low contrast image\n",
      "  skimage.io.imsave(file_name, data, photometric=\"minisblack\")\n",
      "<ipython-input-47-50dcf3bfe4fe>:7: UserWarning: /home/ccw/storage/Yinan_data/TM0-49/max_proj/max_proj_00_04_t00006.tif is a low contrast image\n",
      "  skimage.io.imsave(file_name, data, photometric=\"minisblack\")\n",
      "<ipython-input-47-50dcf3bfe4fe>:7: UserWarning: /home/ccw/storage/Yinan_data/TM0-49/max_proj/max_proj_00_04_t00007.tif is a low contrast image\n",
      "  skimage.io.imsave(file_name, data, photometric=\"minisblack\")\n",
      "<ipython-input-47-50dcf3bfe4fe>:7: UserWarning: /home/ccw/storage/Yinan_data/TM0-49/max_proj/max_proj_00_04_t00008.tif is a low contrast image\n",
      "  skimage.io.imsave(file_name, data, photometric=\"minisblack\")\n",
      "<ipython-input-47-50dcf3bfe4fe>:7: UserWarning: /home/ccw/storage/Yinan_data/TM0-49/max_proj/max_proj_00_04_t00009.tif is a low contrast image\n",
      "  skimage.io.imsave(file_name, data, photometric=\"minisblack\")\n",
      "<ipython-input-47-50dcf3bfe4fe>:7: UserWarning: /home/ccw/storage/Yinan_data/TM0-49/max_proj/max_proj_00_04_t00010.tif is a low contrast image\n",
      "  skimage.io.imsave(file_name, data, photometric=\"minisblack\")\n",
      "<ipython-input-47-50dcf3bfe4fe>:7: UserWarning: /home/ccw/storage/Yinan_data/TM0-49/max_proj/max_proj_00_04_t00011.tif is a low contrast image\n",
      "  skimage.io.imsave(file_name, data, photometric=\"minisblack\")\n",
      "<ipython-input-47-50dcf3bfe4fe>:7: UserWarning: /home/ccw/storage/Yinan_data/TM0-49/max_proj/max_proj_00_04_t00012.tif is a low contrast image\n",
      "  skimage.io.imsave(file_name, data, photometric=\"minisblack\")\n",
      "<ipython-input-47-50dcf3bfe4fe>:7: UserWarning: /home/ccw/storage/Yinan_data/TM0-49/max_proj/max_proj_00_04_t00013.tif is a low contrast image\n",
      "  skimage.io.imsave(file_name, data, photometric=\"minisblack\")\n",
      "<ipython-input-47-50dcf3bfe4fe>:7: UserWarning: /home/ccw/storage/Yinan_data/TM0-49/max_proj/max_proj_00_04_t00014.tif is a low contrast image\n",
      "  skimage.io.imsave(file_name, data, photometric=\"minisblack\")\n",
      "<ipython-input-47-50dcf3bfe4fe>:7: UserWarning: /home/ccw/storage/Yinan_data/TM0-49/max_proj/max_proj_00_04_t00015.tif is a low contrast image\n",
      "  skimage.io.imsave(file_name, data, photometric=\"minisblack\")\n",
      "<ipython-input-47-50dcf3bfe4fe>:7: UserWarning: /home/ccw/storage/Yinan_data/TM0-49/max_proj/max_proj_00_04_t00016.tif is a low contrast image\n",
      "  skimage.io.imsave(file_name, data, photometric=\"minisblack\")\n",
      "<ipython-input-47-50dcf3bfe4fe>:7: UserWarning: /home/ccw/storage/Yinan_data/TM0-49/max_proj/max_proj_00_04_t00017.tif is a low contrast image\n",
      "  skimage.io.imsave(file_name, data, photometric=\"minisblack\")\n",
      "<ipython-input-47-50dcf3bfe4fe>:7: UserWarning: /home/ccw/storage/Yinan_data/TM0-49/max_proj/max_proj_00_04_t00018.tif is a low contrast image\n",
      "  skimage.io.imsave(file_name, data, photometric=\"minisblack\")\n",
      "<ipython-input-47-50dcf3bfe4fe>:7: UserWarning: /home/ccw/storage/Yinan_data/TM0-49/max_proj/max_proj_00_04_t00019.tif is a low contrast image\n",
      "  skimage.io.imsave(file_name, data, photometric=\"minisblack\")\n",
      "<ipython-input-47-50dcf3bfe4fe>:7: UserWarning: /home/ccw/storage/Yinan_data/TM0-49/max_proj/max_proj_00_04_t00020.tif is a low contrast image\n",
      "  skimage.io.imsave(file_name, data, photometric=\"minisblack\")\n",
      "<ipython-input-47-50dcf3bfe4fe>:7: UserWarning: /home/ccw/storage/Yinan_data/TM0-49/max_proj/max_proj_00_04_t00021.tif is a low contrast image\n",
      "  skimage.io.imsave(file_name, data, photometric=\"minisblack\")\n",
      "<ipython-input-47-50dcf3bfe4fe>:7: UserWarning: /home/ccw/storage/Yinan_data/TM0-49/max_proj/max_proj_00_04_t00022.tif is a low contrast image\n",
      "  skimage.io.imsave(file_name, data, photometric=\"minisblack\")\n",
      "<ipython-input-47-50dcf3bfe4fe>:7: UserWarning: /home/ccw/storage/Yinan_data/TM0-49/max_proj/max_proj_00_04_t00023.tif is a low contrast image\n",
      "  skimage.io.imsave(file_name, data, photometric=\"minisblack\")\n",
      "<ipython-input-47-50dcf3bfe4fe>:7: UserWarning: /home/ccw/storage/Yinan_data/TM0-49/max_proj/max_proj_00_04_t00024.tif is a low contrast image\n",
      "  skimage.io.imsave(file_name, data, photometric=\"minisblack\")\n",
      "<ipython-input-47-50dcf3bfe4fe>:7: UserWarning: /home/ccw/storage/Yinan_data/TM0-49/max_proj/max_proj_00_04_t00025.tif is a low contrast image\n",
      "  skimage.io.imsave(file_name, data, photometric=\"minisblack\")\n",
      "<ipython-input-47-50dcf3bfe4fe>:7: UserWarning: /home/ccw/storage/Yinan_data/TM0-49/max_proj/max_proj_00_04_t00026.tif is a low contrast image\n",
      "  skimage.io.imsave(file_name, data, photometric=\"minisblack\")\n",
      "<ipython-input-47-50dcf3bfe4fe>:7: UserWarning: /home/ccw/storage/Yinan_data/TM0-49/max_proj/max_proj_00_04_t00027.tif is a low contrast image\n",
      "  skimage.io.imsave(file_name, data, photometric=\"minisblack\")\n",
      "<ipython-input-47-50dcf3bfe4fe>:7: UserWarning: /home/ccw/storage/Yinan_data/TM0-49/max_proj/max_proj_00_04_t00028.tif is a low contrast image\n",
      "  skimage.io.imsave(file_name, data, photometric=\"minisblack\")\n",
      "<ipython-input-47-50dcf3bfe4fe>:7: UserWarning: /home/ccw/storage/Yinan_data/TM0-49/max_proj/max_proj_00_04_t00029.tif is a low contrast image\n",
      "  skimage.io.imsave(file_name, data, photometric=\"minisblack\")\n",
      "<ipython-input-47-50dcf3bfe4fe>:7: UserWarning: /home/ccw/storage/Yinan_data/TM0-49/max_proj/max_proj_00_04_t00030.tif is a low contrast image\n",
      "  skimage.io.imsave(file_name, data, photometric=\"minisblack\")\n",
      "<ipython-input-47-50dcf3bfe4fe>:7: UserWarning: /home/ccw/storage/Yinan_data/TM0-49/max_proj/max_proj_00_04_t00031.tif is a low contrast image\n",
      "  skimage.io.imsave(file_name, data, photometric=\"minisblack\")\n",
      "<ipython-input-47-50dcf3bfe4fe>:7: UserWarning: /home/ccw/storage/Yinan_data/TM0-49/max_proj/max_proj_00_04_t00032.tif is a low contrast image\n",
      "  skimage.io.imsave(file_name, data, photometric=\"minisblack\")\n",
      "<ipython-input-47-50dcf3bfe4fe>:7: UserWarning: /home/ccw/storage/Yinan_data/TM0-49/max_proj/max_proj_00_04_t00033.tif is a low contrast image\n",
      "  skimage.io.imsave(file_name, data, photometric=\"minisblack\")\n",
      "<ipython-input-47-50dcf3bfe4fe>:7: UserWarning: /home/ccw/storage/Yinan_data/TM0-49/max_proj/max_proj_00_04_t00034.tif is a low contrast image\n",
      "  skimage.io.imsave(file_name, data, photometric=\"minisblack\")\n",
      "<ipython-input-47-50dcf3bfe4fe>:7: UserWarning: /home/ccw/storage/Yinan_data/TM0-49/max_proj/max_proj_00_04_t00035.tif is a low contrast image\n",
      "  skimage.io.imsave(file_name, data, photometric=\"minisblack\")\n",
      "<ipython-input-47-50dcf3bfe4fe>:7: UserWarning: /home/ccw/storage/Yinan_data/TM0-49/max_proj/max_proj_00_04_t00036.tif is a low contrast image\n",
      "  skimage.io.imsave(file_name, data, photometric=\"minisblack\")\n",
      "<ipython-input-47-50dcf3bfe4fe>:7: UserWarning: /home/ccw/storage/Yinan_data/TM0-49/max_proj/max_proj_00_04_t00037.tif is a low contrast image\n",
      "  skimage.io.imsave(file_name, data, photometric=\"minisblack\")\n",
      "<ipython-input-47-50dcf3bfe4fe>:7: UserWarning: /home/ccw/storage/Yinan_data/TM0-49/max_proj/max_proj_00_04_t00038.tif is a low contrast image\n",
      "  skimage.io.imsave(file_name, data, photometric=\"minisblack\")\n",
      "<ipython-input-47-50dcf3bfe4fe>:7: UserWarning: /home/ccw/storage/Yinan_data/TM0-49/max_proj/max_proj_00_04_t00039.tif is a low contrast image\n",
      "  skimage.io.imsave(file_name, data, photometric=\"minisblack\")\n"
     ]
    },
    {
     "name": "stderr",
     "output_type": "stream",
     "text": [
      "<ipython-input-47-50dcf3bfe4fe>:7: UserWarning: /home/ccw/storage/Yinan_data/TM0-49/max_proj/max_proj_00_04_t00040.tif is a low contrast image\n",
      "  skimage.io.imsave(file_name, data, photometric=\"minisblack\")\n",
      "<ipython-input-47-50dcf3bfe4fe>:7: UserWarning: /home/ccw/storage/Yinan_data/TM0-49/max_proj/max_proj_00_04_t00041.tif is a low contrast image\n",
      "  skimage.io.imsave(file_name, data, photometric=\"minisblack\")\n",
      "<ipython-input-47-50dcf3bfe4fe>:7: UserWarning: /home/ccw/storage/Yinan_data/TM0-49/max_proj/max_proj_00_04_t00042.tif is a low contrast image\n",
      "  skimage.io.imsave(file_name, data, photometric=\"minisblack\")\n",
      "<ipython-input-47-50dcf3bfe4fe>:7: UserWarning: /home/ccw/storage/Yinan_data/TM0-49/max_proj/max_proj_00_04_t00043.tif is a low contrast image\n",
      "  skimage.io.imsave(file_name, data, photometric=\"minisblack\")\n",
      "<ipython-input-47-50dcf3bfe4fe>:7: UserWarning: /home/ccw/storage/Yinan_data/TM0-49/max_proj/max_proj_00_04_t00044.tif is a low contrast image\n",
      "  skimage.io.imsave(file_name, data, photometric=\"minisblack\")\n",
      "<ipython-input-47-50dcf3bfe4fe>:7: UserWarning: /home/ccw/storage/Yinan_data/TM0-49/max_proj/max_proj_00_04_t00045.tif is a low contrast image\n",
      "  skimage.io.imsave(file_name, data, photometric=\"minisblack\")\n",
      "<ipython-input-47-50dcf3bfe4fe>:7: UserWarning: /home/ccw/storage/Yinan_data/TM0-49/max_proj/max_proj_00_04_t00046.tif is a low contrast image\n",
      "  skimage.io.imsave(file_name, data, photometric=\"minisblack\")\n",
      "<ipython-input-47-50dcf3bfe4fe>:7: UserWarning: /home/ccw/storage/Yinan_data/TM0-49/max_proj/max_proj_00_04_t00047.tif is a low contrast image\n",
      "  skimage.io.imsave(file_name, data, photometric=\"minisblack\")\n",
      "<ipython-input-47-50dcf3bfe4fe>:7: UserWarning: /home/ccw/storage/Yinan_data/TM0-49/max_proj/max_proj_00_04_t00048.tif is a low contrast image\n",
      "  skimage.io.imsave(file_name, data, photometric=\"minisblack\")\n",
      "<ipython-input-47-50dcf3bfe4fe>:7: UserWarning: /home/ccw/storage/Yinan_data/TM0-49/max_proj/max_proj_00_04_t00049.tif is a low contrast image\n",
      "  skimage.io.imsave(file_name, data, photometric=\"minisblack\")\n"
     ]
    }
   ],
   "source": [
    "file_path = '/home/ccw/storage/Yinan_data/TM0-49/max_proj/'\n",
    "for key in f1.keys():\n",
    "    if key[0] == 't':\n",
    "        left = f1[key]['s00']['0']['cells'][()]\n",
    "        right = f1[key]['s04']['0']['cells'][()]\n",
    "        merge = left + right\n",
    "        max_proj = np.amax(merge, axis=0)\n",
    "        file_name = file_path + 'max_proj_00_04_' + key + '.tif'\n",
    "        SaveNumpyArrayAsImage(max_proj, file_name)"
   ]
  }
 ],
 "metadata": {
  "kernelspec": {
   "display_name": "Python 3",
   "language": "python",
   "name": "python3"
  },
  "language_info": {
   "codemirror_mode": {
    "name": "ipython",
    "version": 3
   },
   "file_extension": ".py",
   "mimetype": "text/x-python",
   "name": "python",
   "nbconvert_exporter": "python",
   "pygments_lexer": "ipython3",
   "version": "3.8.5"
  }
 },
 "nbformat": 4,
 "nbformat_minor": 4
}
